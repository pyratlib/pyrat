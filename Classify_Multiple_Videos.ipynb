{
  "nbformat": 4,
  "nbformat_minor": 0,
  "metadata": {
    "colab": {
      "name": "Classify_Multiple_Videos.ipynb",
      "provenance": [],
      "collapsed_sections": [],
      "include_colab_link": true
    },
    "kernelspec": {
      "name": "python3",
      "display_name": "Python 3"
    },
    "language_info": {
      "name": "python"
    }
  },
  "cells": [
    {
      "cell_type": "markdown",
      "metadata": {
        "id": "view-in-github",
        "colab_type": "text"
      },
      "source": [
        "<a href=\"https://colab.research.google.com/github/pyratlib/pyrat/blob/main/Classify_Multiple_Videos.ipynb\" target=\"_parent\"><img src=\"https://colab.research.google.com/assets/colab-badge.svg\" alt=\"Open In Colab\"/></a>"
      ]
    },
    {
      "cell_type": "markdown",
      "metadata": {
        "id": "C4lDGvoBhI17"
      },
      "source": [
        "# PyRAT example\n",
        "\n",
        "This notebook has examples of using the library to perform behavior classification of multiple videos.\n",
        "\n",
        "For more details: https://github.com/pyratlib/pyrat"
      ]
    },
    {
      "cell_type": "code",
      "metadata": {
        "cellView": "form",
        "id": "AjXtaVQBbXu3"
      },
      "source": [
        "#@title Installing PyRAT and downloading data.\n",
        "!pip install pyratlib\n",
        "!pip install wget\n",
        "!pip install unrar\n",
        "!git clone \n",
        "!wget https://zenodo.org/record/5883277/files/PyRAT_dataset.rar?download=1\n",
        "!unrar x \"/content/PyRAT_dataset.rar?download=1\"\n",
        "\n",
        "import pyratlib as rat\n",
        "import pandas as pd\n",
        "import matplotlib.pyplot as plt\n",
        "import numpy as np\n",
        "from scipy import signal\n",
        "from IPython.display import clear_output \n",
        "\n",
        "clear_output()"
      ],
      "execution_count": null,
      "outputs": []
    },
    {
      "cell_type": "markdown",
      "source": [
        "In this cell it divides a data into three, to simulate the input of three different videos for the function. It may be necessary for the inputs (len of tracking data) to be the same size."
      ],
      "metadata": {
        "id": "TjTcIAa0rPqq"
      }
    },
    {
      "cell_type": "code",
      "metadata": {
        "id": "KpzanhFytXuE",
        "colab": {
          "base_uri": "https://localhost:8080/"
        },
        "outputId": "8add3c16-566d-4d1e-f02c-ae7ba64ef379"
      },
      "source": [
        "data = pd.read_csv('/content/PyRAT_dataset/t-SNE.csv')\n",
        "\n",
        "df = data.loc[np.where(data.iloc[:,([3,6, 9, 21])].values[2:].astype(np.float).mean(axis=1) > 0.6)]\n",
        "\n",
        "df_1 = pd.concat([df[:2],df[1000:2000]])\n",
        "df_2 = pd.concat([df[:2],df[4000:5000]])\n",
        "df_3 = pd.concat([df[:2],df[9000:10000]])\n",
        "\n",
        "df_dict = {'video1':df_1,\n",
        "           'video2':df_2,\n",
        "           'video3':df_3}"
      ],
      "execution_count": null,
      "outputs": [
        {
          "output_type": "stream",
          "name": "stderr",
          "text": [
            "/usr/local/lib/python3.7/dist-packages/IPython/core/interactiveshell.py:2882: DtypeWarning: Columns (0,1,2,3,4,5,6,7,8,9,10,11,12,13,14,15,16,17,18,19,20,21,22,23,24,25,26,27,28,29,30) have mixed types.Specify dtype option on import or set low_memory=False.\n",
            "  exec(code_obj, self.user_global_ns, self.user_ns)\n",
            "/usr/local/lib/python3.7/dist-packages/ipykernel_launcher.py:3: DeprecationWarning: `np.float` is a deprecated alias for the builtin `float`. To silence this warning, use `float` by itself. Doing this will not modify any behavior and is safe. If you specifically wanted the numpy scalar type, use `np.float64` here.\n",
            "Deprecated in NumPy 1.20; for more details and guidance: https://numpy.org/devdocs/release/1.20.0-notes.html#deprecations\n",
            "  This is separate from the ipykernel package so we can avoid doing imports until\n"
          ]
        }
      ]
    },
    {
      "cell_type": "markdown",
      "source": [
        " ClassifyBehaviorMultiVideos()   \n",
        " \n",
        "    \"\"\"\n",
        "    Returns an array with the cluster by frame, an array with the embedding data in low-dimensional \n",
        "    space and the clusterization model.\n",
        "    \n",
        "    Parameters\n",
        "    ----------\n",
        "    data : dict with DataFrames\n",
        "        The input tracking data concatenated.\n",
        "    bodyparts_list : list\n",
        "        List with name of body parts.\n",
        "    dimensions : int\n",
        "        Dimension of the embedded space.\n",
        "    distance : int\n",
        "        The linkage distance threshold above which, clusters will not be merged.\n",
        "    n_jobs : int, optional\n",
        "        The number of parallel jobs to run for neighbors search.\n",
        "    verbose : int, optional\n",
        "        Verbosity level.\n",
        "    perplexity : float, optional\n",
        "        The perplexity is related to the number of nearest neighbors that is used in other manifold learning algorithms. Larger datasets usually require a larger perplexity.\n",
        "    learning_rate : float, optional\n",
        "        t-SNE learning rate.\n",
        "\n",
        "    Returns\n",
        "    -------\n",
        "    cluster_df : df\n",
        "        Array with the cluster by frame/video.\n",
        "    cluster_coord : DataFrame\n",
        "        Embedding of the training data in low-dimensional space.\n",
        "    fitted_model : Obj\n",
        "        AgglomerativeClustering model.\n",
        "\n",
        "    See Also\n",
        "    --------\n",
        "    For more information and usage examples: https://github.com/pyratlib/pyrat\n",
        "    \n",
        "    Notes\n",
        "    -----\n",
        "    This function was developed based on DLC outputs and is able to support \n",
        "    matplotlib configurations.\"\"\""
      ],
      "metadata": {
        "id": "LRH_yLxTrDTz"
      }
    },
    {
      "cell_type": "code",
      "source": [
        "df_cluster, df_coord, model = rat.ClassifyBehaviorMultiVideos(df_dict,['nose','earR','earL','tailBase'])"
      ],
      "metadata": {
        "colab": {
          "base_uri": "https://localhost:8080/"
        },
        "id": "o_kf_xsFj8zU",
        "outputId": "c49b8cf5-0fe2-4b7c-9e81-df3713c06137"
      },
      "execution_count": null,
      "outputs": [
        {
          "output_type": "stream",
          "name": "stderr",
          "text": [
            "/usr/local/lib/python3.7/dist-packages/pyratlib/processing.py:2420: RuntimeWarning: invalid value encountered in true_divide\n",
            "  distances2[:, i, j] = distances2[:, i, j]/np.max(distances2[:, i, j])\n",
            "/usr/local/lib/python3.7/dist-packages/pyratlib/processing.py:2420: RuntimeWarning: invalid value encountered in true_divide\n",
            "  distances2[:, i, j] = distances2[:, i, j]/np.max(distances2[:, i, j])\n",
            "/usr/local/lib/python3.7/dist-packages/pyratlib/processing.py:2420: RuntimeWarning: invalid value encountered in true_divide\n",
            "  distances2[:, i, j] = distances2[:, i, j]/np.max(distances2[:, i, j])\n",
            "/usr/local/lib/python3.7/dist-packages/sklearn/manifold/_t_sne.py:986: FutureWarning: The PCA initialization in TSNE will change to have the standard deviation of PC1 equal to 1e-4 in 1.2. This will ensure better convergence.\n",
            "  FutureWarning,\n"
          ]
        }
      ]
    },
    {
      "cell_type": "code",
      "source": [
        "df_cluster.head()"
      ],
      "metadata": {
        "colab": {
          "base_uri": "https://localhost:8080/",
          "height": 206
        },
        "id": "9UPC-veHqfm1",
        "outputId": "16a97f7c-9322-4beb-d139-ec5aa36d20a0"
      },
      "execution_count": null,
      "outputs": [
        {
          "output_type": "execute_result",
          "data": {
            "text/plain": [
              "   video1  video2  video3\n",
              "0       7       2       6\n",
              "1       7       2       6\n",
              "2       7       2       6\n",
              "3       7       2       6\n",
              "4       7       2       6"
            ],
            "text/html": [
              "\n",
              "  <div id=\"df-1fc8e31b-6ffb-40e8-8e4f-a433e9949c69\">\n",
              "    <div class=\"colab-df-container\">\n",
              "      <div>\n",
              "<style scoped>\n",
              "    .dataframe tbody tr th:only-of-type {\n",
              "        vertical-align: middle;\n",
              "    }\n",
              "\n",
              "    .dataframe tbody tr th {\n",
              "        vertical-align: top;\n",
              "    }\n",
              "\n",
              "    .dataframe thead th {\n",
              "        text-align: right;\n",
              "    }\n",
              "</style>\n",
              "<table border=\"1\" class=\"dataframe\">\n",
              "  <thead>\n",
              "    <tr style=\"text-align: right;\">\n",
              "      <th></th>\n",
              "      <th>video1</th>\n",
              "      <th>video2</th>\n",
              "      <th>video3</th>\n",
              "    </tr>\n",
              "  </thead>\n",
              "  <tbody>\n",
              "    <tr>\n",
              "      <th>0</th>\n",
              "      <td>7</td>\n",
              "      <td>2</td>\n",
              "      <td>6</td>\n",
              "    </tr>\n",
              "    <tr>\n",
              "      <th>1</th>\n",
              "      <td>7</td>\n",
              "      <td>2</td>\n",
              "      <td>6</td>\n",
              "    </tr>\n",
              "    <tr>\n",
              "      <th>2</th>\n",
              "      <td>7</td>\n",
              "      <td>2</td>\n",
              "      <td>6</td>\n",
              "    </tr>\n",
              "    <tr>\n",
              "      <th>3</th>\n",
              "      <td>7</td>\n",
              "      <td>2</td>\n",
              "      <td>6</td>\n",
              "    </tr>\n",
              "    <tr>\n",
              "      <th>4</th>\n",
              "      <td>7</td>\n",
              "      <td>2</td>\n",
              "      <td>6</td>\n",
              "    </tr>\n",
              "  </tbody>\n",
              "</table>\n",
              "</div>\n",
              "      <button class=\"colab-df-convert\" onclick=\"convertToInteractive('df-1fc8e31b-6ffb-40e8-8e4f-a433e9949c69')\"\n",
              "              title=\"Convert this dataframe to an interactive table.\"\n",
              "              style=\"display:none;\">\n",
              "        \n",
              "  <svg xmlns=\"http://www.w3.org/2000/svg\" height=\"24px\"viewBox=\"0 0 24 24\"\n",
              "       width=\"24px\">\n",
              "    <path d=\"M0 0h24v24H0V0z\" fill=\"none\"/>\n",
              "    <path d=\"M18.56 5.44l.94 2.06.94-2.06 2.06-.94-2.06-.94-.94-2.06-.94 2.06-2.06.94zm-11 1L8.5 8.5l.94-2.06 2.06-.94-2.06-.94L8.5 2.5l-.94 2.06-2.06.94zm10 10l.94 2.06.94-2.06 2.06-.94-2.06-.94-.94-2.06-.94 2.06-2.06.94z\"/><path d=\"M17.41 7.96l-1.37-1.37c-.4-.4-.92-.59-1.43-.59-.52 0-1.04.2-1.43.59L10.3 9.45l-7.72 7.72c-.78.78-.78 2.05 0 2.83L4 21.41c.39.39.9.59 1.41.59.51 0 1.02-.2 1.41-.59l7.78-7.78 2.81-2.81c.8-.78.8-2.07 0-2.86zM5.41 20L4 18.59l7.72-7.72 1.47 1.35L5.41 20z\"/>\n",
              "  </svg>\n",
              "      </button>\n",
              "      \n",
              "  <style>\n",
              "    .colab-df-container {\n",
              "      display:flex;\n",
              "      flex-wrap:wrap;\n",
              "      gap: 12px;\n",
              "    }\n",
              "\n",
              "    .colab-df-convert {\n",
              "      background-color: #E8F0FE;\n",
              "      border: none;\n",
              "      border-radius: 50%;\n",
              "      cursor: pointer;\n",
              "      display: none;\n",
              "      fill: #1967D2;\n",
              "      height: 32px;\n",
              "      padding: 0 0 0 0;\n",
              "      width: 32px;\n",
              "    }\n",
              "\n",
              "    .colab-df-convert:hover {\n",
              "      background-color: #E2EBFA;\n",
              "      box-shadow: 0px 1px 2px rgba(60, 64, 67, 0.3), 0px 1px 3px 1px rgba(60, 64, 67, 0.15);\n",
              "      fill: #174EA6;\n",
              "    }\n",
              "\n",
              "    [theme=dark] .colab-df-convert {\n",
              "      background-color: #3B4455;\n",
              "      fill: #D2E3FC;\n",
              "    }\n",
              "\n",
              "    [theme=dark] .colab-df-convert:hover {\n",
              "      background-color: #434B5C;\n",
              "      box-shadow: 0px 1px 3px 1px rgba(0, 0, 0, 0.15);\n",
              "      filter: drop-shadow(0px 1px 2px rgba(0, 0, 0, 0.3));\n",
              "      fill: #FFFFFF;\n",
              "    }\n",
              "  </style>\n",
              "\n",
              "      <script>\n",
              "        const buttonEl =\n",
              "          document.querySelector('#df-1fc8e31b-6ffb-40e8-8e4f-a433e9949c69 button.colab-df-convert');\n",
              "        buttonEl.style.display =\n",
              "          google.colab.kernel.accessAllowed ? 'block' : 'none';\n",
              "\n",
              "        async function convertToInteractive(key) {\n",
              "          const element = document.querySelector('#df-1fc8e31b-6ffb-40e8-8e4f-a433e9949c69');\n",
              "          const dataTable =\n",
              "            await google.colab.kernel.invokeFunction('convertToInteractive',\n",
              "                                                     [key], {});\n",
              "          if (!dataTable) return;\n",
              "\n",
              "          const docLinkHtml = 'Like what you see? Visit the ' +\n",
              "            '<a target=\"_blank\" href=https://colab.research.google.com/notebooks/data_table.ipynb>data table notebook</a>'\n",
              "            + ' to learn more about interactive tables.';\n",
              "          element.innerHTML = '';\n",
              "          dataTable['output_type'] = 'display_data';\n",
              "          await google.colab.output.renderOutput(dataTable, element);\n",
              "          const docLink = document.createElement('div');\n",
              "          docLink.innerHTML = docLinkHtml;\n",
              "          element.appendChild(docLink);\n",
              "        }\n",
              "      </script>\n",
              "    </div>\n",
              "  </div>\n",
              "  "
            ]
          },
          "metadata": {},
          "execution_count": 4
        }
      ]
    },
    {
      "cell_type": "markdown",
      "source": [
        "The 'x_n_samples' and 'y_n_components' are used to plot the cluster map. In this example the first 1000 points are related with the first video, and so on. Eg. df[video1] and df_coord[x_n_samples,y_n_components][:1000]"
      ],
      "metadata": {
        "id": "eOVgKE_QL7OT"
      }
    },
    {
      "cell_type": "code",
      "source": [
        "df_coord.head()"
      ],
      "metadata": {
        "colab": {
          "base_uri": "https://localhost:8080/",
          "height": 206
        },
        "id": "jiQ2B8cxqhdA",
        "outputId": "ccfc166c-7cb5-456e-908d-aa12574f2441"
      },
      "execution_count": null,
      "outputs": [
        {
          "output_type": "execute_result",
          "data": {
            "text/plain": [
              "   x_n_samples  y_n_components  distance 0  distance 1  distance 2  \\\n",
              "0   -66.299683       52.479321   -0.047177    0.412736    1.212293   \n",
              "1   -65.348999       37.693684    0.245817    0.605316    1.382588   \n",
              "2   -67.978958       32.087402    0.179977    0.412674    1.279935   \n",
              "3   -65.087402       38.683369    0.279246    0.624299    1.367674   \n",
              "4   -64.499260       39.281059    0.513897    0.680227    1.414679   \n",
              "\n",
              "   distance 3  distance 4  distance 5  \n",
              "0    0.797300    1.079219    1.855424  \n",
              "1   -0.014644    1.041899    1.507575  \n",
              "2   -0.256444    0.974472    1.478357  \n",
              "3    0.344457    1.006244    1.576601  \n",
              "4    0.277720    0.912235    1.633468  "
            ],
            "text/html": [
              "\n",
              "  <div id=\"df-93db38a8-550a-4e15-8e55-f9bd58835f62\">\n",
              "    <div class=\"colab-df-container\">\n",
              "      <div>\n",
              "<style scoped>\n",
              "    .dataframe tbody tr th:only-of-type {\n",
              "        vertical-align: middle;\n",
              "    }\n",
              "\n",
              "    .dataframe tbody tr th {\n",
              "        vertical-align: top;\n",
              "    }\n",
              "\n",
              "    .dataframe thead th {\n",
              "        text-align: right;\n",
              "    }\n",
              "</style>\n",
              "<table border=\"1\" class=\"dataframe\">\n",
              "  <thead>\n",
              "    <tr style=\"text-align: right;\">\n",
              "      <th></th>\n",
              "      <th>x_n_samples</th>\n",
              "      <th>y_n_components</th>\n",
              "      <th>distance 0</th>\n",
              "      <th>distance 1</th>\n",
              "      <th>distance 2</th>\n",
              "      <th>distance 3</th>\n",
              "      <th>distance 4</th>\n",
              "      <th>distance 5</th>\n",
              "    </tr>\n",
              "  </thead>\n",
              "  <tbody>\n",
              "    <tr>\n",
              "      <th>0</th>\n",
              "      <td>-66.299683</td>\n",
              "      <td>52.479321</td>\n",
              "      <td>-0.047177</td>\n",
              "      <td>0.412736</td>\n",
              "      <td>1.212293</td>\n",
              "      <td>0.797300</td>\n",
              "      <td>1.079219</td>\n",
              "      <td>1.855424</td>\n",
              "    </tr>\n",
              "    <tr>\n",
              "      <th>1</th>\n",
              "      <td>-65.348999</td>\n",
              "      <td>37.693684</td>\n",
              "      <td>0.245817</td>\n",
              "      <td>0.605316</td>\n",
              "      <td>1.382588</td>\n",
              "      <td>-0.014644</td>\n",
              "      <td>1.041899</td>\n",
              "      <td>1.507575</td>\n",
              "    </tr>\n",
              "    <tr>\n",
              "      <th>2</th>\n",
              "      <td>-67.978958</td>\n",
              "      <td>32.087402</td>\n",
              "      <td>0.179977</td>\n",
              "      <td>0.412674</td>\n",
              "      <td>1.279935</td>\n",
              "      <td>-0.256444</td>\n",
              "      <td>0.974472</td>\n",
              "      <td>1.478357</td>\n",
              "    </tr>\n",
              "    <tr>\n",
              "      <th>3</th>\n",
              "      <td>-65.087402</td>\n",
              "      <td>38.683369</td>\n",
              "      <td>0.279246</td>\n",
              "      <td>0.624299</td>\n",
              "      <td>1.367674</td>\n",
              "      <td>0.344457</td>\n",
              "      <td>1.006244</td>\n",
              "      <td>1.576601</td>\n",
              "    </tr>\n",
              "    <tr>\n",
              "      <th>4</th>\n",
              "      <td>-64.499260</td>\n",
              "      <td>39.281059</td>\n",
              "      <td>0.513897</td>\n",
              "      <td>0.680227</td>\n",
              "      <td>1.414679</td>\n",
              "      <td>0.277720</td>\n",
              "      <td>0.912235</td>\n",
              "      <td>1.633468</td>\n",
              "    </tr>\n",
              "  </tbody>\n",
              "</table>\n",
              "</div>\n",
              "      <button class=\"colab-df-convert\" onclick=\"convertToInteractive('df-93db38a8-550a-4e15-8e55-f9bd58835f62')\"\n",
              "              title=\"Convert this dataframe to an interactive table.\"\n",
              "              style=\"display:none;\">\n",
              "        \n",
              "  <svg xmlns=\"http://www.w3.org/2000/svg\" height=\"24px\"viewBox=\"0 0 24 24\"\n",
              "       width=\"24px\">\n",
              "    <path d=\"M0 0h24v24H0V0z\" fill=\"none\"/>\n",
              "    <path d=\"M18.56 5.44l.94 2.06.94-2.06 2.06-.94-2.06-.94-.94-2.06-.94 2.06-2.06.94zm-11 1L8.5 8.5l.94-2.06 2.06-.94-2.06-.94L8.5 2.5l-.94 2.06-2.06.94zm10 10l.94 2.06.94-2.06 2.06-.94-2.06-.94-.94-2.06-.94 2.06-2.06.94z\"/><path d=\"M17.41 7.96l-1.37-1.37c-.4-.4-.92-.59-1.43-.59-.52 0-1.04.2-1.43.59L10.3 9.45l-7.72 7.72c-.78.78-.78 2.05 0 2.83L4 21.41c.39.39.9.59 1.41.59.51 0 1.02-.2 1.41-.59l7.78-7.78 2.81-2.81c.8-.78.8-2.07 0-2.86zM5.41 20L4 18.59l7.72-7.72 1.47 1.35L5.41 20z\"/>\n",
              "  </svg>\n",
              "      </button>\n",
              "      \n",
              "  <style>\n",
              "    .colab-df-container {\n",
              "      display:flex;\n",
              "      flex-wrap:wrap;\n",
              "      gap: 12px;\n",
              "    }\n",
              "\n",
              "    .colab-df-convert {\n",
              "      background-color: #E8F0FE;\n",
              "      border: none;\n",
              "      border-radius: 50%;\n",
              "      cursor: pointer;\n",
              "      display: none;\n",
              "      fill: #1967D2;\n",
              "      height: 32px;\n",
              "      padding: 0 0 0 0;\n",
              "      width: 32px;\n",
              "    }\n",
              "\n",
              "    .colab-df-convert:hover {\n",
              "      background-color: #E2EBFA;\n",
              "      box-shadow: 0px 1px 2px rgba(60, 64, 67, 0.3), 0px 1px 3px 1px rgba(60, 64, 67, 0.15);\n",
              "      fill: #174EA6;\n",
              "    }\n",
              "\n",
              "    [theme=dark] .colab-df-convert {\n",
              "      background-color: #3B4455;\n",
              "      fill: #D2E3FC;\n",
              "    }\n",
              "\n",
              "    [theme=dark] .colab-df-convert:hover {\n",
              "      background-color: #434B5C;\n",
              "      box-shadow: 0px 1px 3px 1px rgba(0, 0, 0, 0.15);\n",
              "      filter: drop-shadow(0px 1px 2px rgba(0, 0, 0, 0.3));\n",
              "      fill: #FFFFFF;\n",
              "    }\n",
              "  </style>\n",
              "\n",
              "      <script>\n",
              "        const buttonEl =\n",
              "          document.querySelector('#df-93db38a8-550a-4e15-8e55-f9bd58835f62 button.colab-df-convert');\n",
              "        buttonEl.style.display =\n",
              "          google.colab.kernel.accessAllowed ? 'block' : 'none';\n",
              "\n",
              "        async function convertToInteractive(key) {\n",
              "          const element = document.querySelector('#df-93db38a8-550a-4e15-8e55-f9bd58835f62');\n",
              "          const dataTable =\n",
              "            await google.colab.kernel.invokeFunction('convertToInteractive',\n",
              "                                                     [key], {});\n",
              "          if (!dataTable) return;\n",
              "\n",
              "          const docLinkHtml = 'Like what you see? Visit the ' +\n",
              "            '<a target=\"_blank\" href=https://colab.research.google.com/notebooks/data_table.ipynb>data table notebook</a>'\n",
              "            + ' to learn more about interactive tables.';\n",
              "          element.innerHTML = '';\n",
              "          dataTable['output_type'] = 'display_data';\n",
              "          await google.colab.output.renderOutput(dataTable, element);\n",
              "          const docLink = document.createElement('div');\n",
              "          docLink.innerHTML = docLinkHtml;\n",
              "          element.appendChild(docLink);\n",
              "        }\n",
              "      </script>\n",
              "    </div>\n",
              "  </div>\n",
              "  "
            ]
          },
          "metadata": {},
          "execution_count": 5
        }
      ]
    },
    {
      "cell_type": "code",
      "source": [
        "rat.dendrogram(model)"
      ],
      "metadata": {
        "colab": {
          "base_uri": "https://localhost:8080/",
          "height": 288
        },
        "id": "l5N4nntVmiFz",
        "outputId": "380e8f2f-f8ba-46d1-efce-f7117815ce12"
      },
      "execution_count": null,
      "outputs": [
        {
          "output_type": "display_data",
          "data": {
            "text/plain": [
              "<Figure size 432x288 with 1 Axes>"
            ],
            "image/png": "[encoded data removed]"
          },
          "metadata": {
            "needs_background": "light"
          }
        }
      ]
    }
  ]
}